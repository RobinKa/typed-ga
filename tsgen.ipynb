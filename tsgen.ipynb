{
 "cells": [
  {
   "cell_type": "code",
   "execution_count": 1,
   "metadata": {},
   "outputs": [],
   "source": [
    "from tfga import GeometricAlgebra\n",
    "from tfga.blades import BladeKind\n",
    "import tensorflow as tf\n",
    "import numpy as np\n",
    "from itertools import combinations_with_replacement\n",
    "import os"
   ]
  },
  {
   "cell_type": "code",
   "execution_count": 2,
   "metadata": {},
   "outputs": [],
   "source": [
    "pga = GeometricAlgebra([0, 1, 1])"
   ]
  },
  {
   "cell_type": "code",
   "execution_count": 3,
   "metadata": {
    "tags": []
   },
   "outputs": [
    {
     "output_type": "stream",
     "name": "stdout",
     "text": "[[ 0  1  2  3  4  5  6  7]\n [ 1 -1  4  5 -1 -1  7 -1]\n [ 2  4  0  6  1  7  3  5]\n [ 3  5  6  0  7  1  2  4]\n [ 4 -1  1  7 -1 -1  5 -1]\n [ 5 -1  7  1 -1 -1  4 -1]\n [ 6  7  3  2  5  4  0  1]\n [ 7 -1  5  4 -1 -1  1 -1]]\n[[ 1.  1.  1.  1.  1.  1.  1.  1.]\n [ 1.  0.  1.  1.  0.  0.  1.  0.]\n [ 1. -1.  1.  1. -1. -1.  1. -1.]\n [ 1. -1. -1.  1.  1. -1. -1.  1.]\n [ 1.  0.  1.  1.  0.  0.  1.  0.]\n [ 1.  0. -1.  1.  0.  0. -1.  0.]\n [ 1.  1. -1.  1. -1.  1. -1. -1.]\n [ 1.  0. -1.  1.  0.  0. -1.  0.]]\n"
    }
   ],
   "source": [
    "def generate_multiplication_tables(cayley):\n",
    "    num_blades = cayley.shape[0]\n",
    "    mult_table = np.empty([num_blades, num_blades], dtype=np.int64)\n",
    "    mult_sign_table = np.zeros([num_blades, num_blades])\n",
    "    mult_table.fill(-1)\n",
    "\n",
    "    for row, row_vals in enumerate(cayley):\n",
    "        for col, col_vals in enumerate(row_vals):\n",
    "            if tf.reduce_any(col_vals != 0):\n",
    "                mult_table[row, col] = tf.argmax(tf.abs(col_vals))\n",
    "                mult_sign_table[row, col] = cayley[row, col, mult_table[row, col]]\n",
    "    return mult_table, mult_sign_table\n",
    "\n",
    "mult_table, mult_sign_table = generate_multiplication_tables(pga.cayley)\n",
    "mult_table_inner, mult_sign_table_inner = generate_multiplication_tables(pga.cayley_inner)\n",
    "mult_table_outer, mult_sign_table_outer = generate_multiplication_tables(pga.cayley_outer)\n",
    "\n",
    "print(mult_table)\n",
    "print(mult_sign_table)"
   ]
  },
  {
   "cell_type": "code",
   "execution_count": 4,
   "metadata": {
    "tags": []
   },
   "outputs": [
    {
     "output_type": "stream",
     "name": "stdout",
     "text": "export type BladeScalar = { scalar: number }\nexport type BladeE0 = { e0: number }\nexport type BladeE1 = { e1: number }\nexport type BladeE2 = { e2: number }\nexport type BladeE01 = { e01: number }\nexport type BladeE02 = { e02: number }\nexport type BladeE12 = { e12: number }\nexport type BladeE012 = { e012: number }\nexport type OptionalMultiVector = {\n    scalar?: number\n    e0?: number\n    e1?: number\n    e2?: number\n    e01?: number\n    e02?: number\n    e12?: number\n    e012?: number\n}\n"
    }
   ],
   "source": [
    "def blade_repr(blade):\n",
    "    return \"Scalar\" if blade == \"\" else \"E%s\" % blade\n",
    "\n",
    "blade_reprs = list(map(blade_repr, pga.blades))\n",
    "\n",
    "def generate_blade_types(blade_reprs):\n",
    "    type_lines = []\n",
    "    for blade in blade_reprs:\n",
    "        type_lines.append(\"export type Blade%s = { %s: number }\" % (blade, blade.lower()))\n",
    "    return \"\\n\".join(type_lines)\n",
    "\n",
    "def generate_optional_mv(blade_reprs):\n",
    "    type_lines = [\"export type OptionalMultiVector = {\"]\n",
    "    for blade in blade_reprs:\n",
    "        type_lines.append(\"    %s?: number\" % blade.lower())\n",
    "    type_lines.append(\"}\")\n",
    "    return \"\\n\".join(type_lines)\n",
    "\n",
    "print(generate_blade_types(blade_reprs))\n",
    "print(generate_optional_mv(blade_reprs))"
   ]
  },
  {
   "cell_type": "code",
   "execution_count": 5,
   "metadata": {
    "tags": []
   },
   "outputs": [
    {
     "output_type": "stream",
     "name": "stdout",
     "text": "export type Scalar = BladeScalar\nexport type Vector = BladeE0 & BladeE1 & BladeE2\nexport type BiVector = BladeE01 & BladeE02 & BladeE12\nexport type TriVector = BladeE012\nexport type PseudoTriVector = BladeScalar\nexport type PseudoBiVector = BladeE0 & BladeE1 & BladeE2\nexport type PseudoVector = BladeE01 & BladeE02 & BladeE12\nexport type PseudoScalar = BladeE012\nexport type Even = BladeScalar & BladeE01 & BladeE02 & BladeE12\nexport type Odd = BladeE0 & BladeE1 & BladeE2 & BladeE012\nexport type MultiVector = BladeScalar & BladeE0 & BladeE1 & BladeE2 & BladeE01 & BladeE02 & BladeE12 & BladeE012\n"
    }
   ],
   "source": [
    "def generate_kind_types(kinds, ga, blade_reprs):\n",
    "    type_lines = []\n",
    "    for kind, kind_name in kinds:\n",
    "        kind_indices = ga.get_kind_blade_indices(kind)\n",
    "        if len(kind_indices) > 0:\n",
    "            kind_blades = \" & \".join(map(lambda blade_index: \"Blade%s\" % blade_reprs[blade_index], kind_indices))\n",
    "            type_lines.append(\"export type %s = %s\" % (kind_name, kind_blades))\n",
    "    return \"\\n\".join(type_lines)\n",
    "\n",
    "kinds = [\n",
    "    (BladeKind.SCALAR, \"Scalar\"),\n",
    "    (BladeKind.VECTOR, \"Vector\"),\n",
    "    (BladeKind.BIVECTOR, \"BiVector\"),\n",
    "    (BladeKind.TRIVECTOR, \"TriVector\"),\n",
    "    (BladeKind.PSEUDOTRIVECTOR, \"PseudoTriVector\"),\n",
    "    (BladeKind.PSEUDOBIVECTOR, \"PseudoBiVector\"),\n",
    "    (BladeKind.PSEUDOVECTOR, \"PseudoVector\"),\n",
    "    (BladeKind.PSEUDOSCALAR, \"PseudoScalar\"),\n",
    "    (BladeKind.EVEN, \"Even\"),\n",
    "    (BladeKind.ODD, \"Odd\"),\n",
    "    (BladeKind.MV, \"MultiVector\")\n",
    "]\n",
    "\n",
    "print(generate_kind_types(kinds, pga, blade_reprs))"
   ]
  },
  {
   "cell_type": "code",
   "execution_count": 6,
   "metadata": {
    "tags": []
   },
   "outputs": [
    {
     "output_type": "stream",
     "name": "stdout",
     "text": "export type AddResultType<A, B> = (\n    (A extends BladeScalar ? BladeScalar : {}) &\n    (B extends BladeScalar ? BladeScalar : {}) &\n    (A extends BladeE0 ? BladeE0 : {}) &\n    (B extends BladeE0 ? BladeE0 : {}) &\n    (A extends BladeE1 ? BladeE1 : {}) &\n    (B extends BladeE1 ? BladeE1 : {}) &\n    (A extends BladeE2 ? BladeE2 : {}) &\n    (B extends BladeE2 ? BladeE2 : {}) &\n    (A extends BladeE01 ? BladeE01 : {}) &\n    (B extends BladeE01 ? BladeE01 : {}) &\n    (A extends BladeE02 ? BladeE02 : {}) &\n    (B extends BladeE02 ? BladeE02 : {}) &\n    (A extends BladeE12 ? BladeE12 : {}) &\n    (B extends BladeE12 ? BladeE12 : {}) &\n    (A extends BladeE012 ? BladeE012 : {}) &\n    (B extends BladeE012 ? BladeE012 : {})\n)\nexport const Add = <A extends OptionalMultiVector, B extends OptionalMultiVector>(a: A, b: B): AddResultType<A, B> => {\n    const result: any = {\n        scalar: (a.scalar !== undefined || b.scalar !== undefined) ? (a.scalar || 0) + (b.scalar || 0) : undefined,\n        e0: (a.e0 !== undefined || b.e0 !== undefined) ? (a.e0 || 0) + (b.e0 || 0) : undefined,\n        e1: (a.e1 !== undefined || b.e1 !== undefined) ? (a.e1 || 0) + (b.e1 || 0) : undefined,\n        e2: (a.e2 !== undefined || b.e2 !== undefined) ? (a.e2 || 0) + (b.e2 || 0) : undefined,\n        e01: (a.e01 !== undefined || b.e01 !== undefined) ? (a.e01 || 0) + (b.e01 || 0) : undefined,\n        e02: (a.e02 !== undefined || b.e02 !== undefined) ? (a.e02 || 0) + (b.e02 || 0) : undefined,\n        e12: (a.e12 !== undefined || b.e12 !== undefined) ? (a.e12 || 0) + (b.e12 || 0) : undefined,\n        e012: (a.e012 !== undefined || b.e012 !== undefined) ? (a.e012 || 0) + (b.e012 || 0) : undefined,\n    }\n    return result as AddResultType<A, B>\n}\nexport const Sub = <A extends OptionalMultiVector, B extends OptionalMultiVector>(a: A, b: B): AddResultType<A, B> => {\n    const result: any = {\n        scalar: (a.scalar !== undefined || b.scalar !== undefined) ? (a.scalar || 0) - (b.scalar || 0) : undefined,\n        e0: (a.e0 !== undefined || b.e0 !== undefined) ? (a.e0 || 0) - (b.e0 || 0) : undefined,\n        e1: (a.e1 !== undefined || b.e1 !== undefined) ? (a.e1 || 0) - (b.e1 || 0) : undefined,\n        e2: (a.e2 !== undefined || b.e2 !== undefined) ? (a.e2 || 0) - (b.e2 || 0) : undefined,\n        e01: (a.e01 !== undefined || b.e01 !== undefined) ? (a.e01 || 0) - (b.e01 || 0) : undefined,\n        e02: (a.e02 !== undefined || b.e02 !== undefined) ? (a.e02 || 0) - (b.e02 || 0) : undefined,\n        e12: (a.e12 !== undefined || b.e12 !== undefined) ? (a.e12 || 0) - (b.e12 || 0) : undefined,\n        e012: (a.e012 !== undefined || b.e012 !== undefined) ? (a.e012 || 0) - (b.e012 || 0) : undefined,\n    }\n    return result as AddResultType<A, B>\n}\n"
    }
   ],
   "source": [
    "def generate_add_type(blade_reprs):\n",
    "    type_lines = [\"export type AddResultType<A, B> = (\"]\n",
    "    for i, blade in enumerate(blade_reprs):\n",
    "        type_lines.append(\"    (A extends Blade%s ? Blade%s : {}) &\" % (blade, blade))\n",
    "        type_lines.append(\"    (B extends Blade%s ? Blade%s : {})%s\" % (blade, blade, \"\" if i == len(blade_reprs) - 1 else \" &\"))\n",
    "    type_lines.append(\")\")\n",
    "    return \"\\n\".join(type_lines)\n",
    "\n",
    "def generate_add(name, op, blade_reprs):\n",
    "    lines = [\n",
    "        \"export const %s = <A extends OptionalMultiVector, B extends OptionalMultiVector>(a: A, b: B): AddResultType<A, B> => {\" % name,\n",
    "        \"    const result: any = {\"\n",
    "    ]\n",
    "    for blade in blade_reprs:\n",
    "        lines.append(\"        %s: (a.%s !== undefined || b.%s !== undefined) ? (a.%s || 0) %s (b.%s || 0) : undefined,\" % (blade.lower(), blade.lower(), blade.lower(), blade.lower(), op, blade.lower()))\n",
    "    lines += [\n",
    "        \"    }\",\n",
    "        \"    return result as AddResultType<A, B>\",\n",
    "        \"}\"\n",
    "    ]\n",
    "    return \"\\n\".join(lines)\n",
    "\n",
    "print(generate_add_type(blade_reprs))\n",
    "print(generate_add(\"Add\", \"+\", blade_reprs))\n",
    "print(generate_add(\"Sub\", \"-\", blade_reprs))"
   ]
  },
  {
   "cell_type": "code",
   "execution_count": 7,
   "metadata": {
    "tags": []
   },
   "outputs": [
    {
     "output_type": "stream",
     "name": "stdout",
     "text": "export type DualResultType<A> = (\n    (A extends BladeScalar ? BladeE012 : {}) &\n    (A extends BladeE0 ? BladeE12 : {}) &\n    (A extends BladeE1 ? BladeE02 : {}) &\n    (A extends BladeE2 ? BladeE01 : {}) &\n    (A extends BladeE01 ? BladeE2 : {}) &\n    (A extends BladeE02 ? BladeE1 : {}) &\n    (A extends BladeE12 ? BladeE0 : {}) &\n    (A extends BladeE012 ? BladeScalar : {})\n)\nexport const dual = <A extends OptionalMultiVector>(a: A): DualResultType<A> => {\n    const result: any = {\n        scalar: a.e012 !== undefined ? 1.0 * a.e012 : undefined,\n        e0: a.e12 !== undefined ? 1.0 * a.e12 : undefined,\n        e1: a.e02 !== undefined ? -1.0 * a.e02 : undefined,\n        e2: a.e01 !== undefined ? 1.0 * a.e01 : undefined,\n        e01: a.e2 !== undefined ? 1.0 * a.e2 : undefined,\n        e02: a.e1 !== undefined ? -1.0 * a.e1 : undefined,\n        e12: a.e0 !== undefined ? 1.0 * a.e0 : undefined,\n        e012: a.scalar !== undefined ? 1.0 * a.scalar : undefined,\n    }\n    return result as DualResultType<A>\n}\n"
    }
   ],
   "source": [
    "def generate_dual_type(blade_reprs, dual_blade_indices):\n",
    "    type_lines = [\"export type DualResultType<A> = (\"]\n",
    "    for i, blade in enumerate(blade_reprs):\n",
    "        dual_blade_index = dual_blade_indices[i]\n",
    "        dual_blade = blade_reprs[dual_blade_index]\n",
    "        type_lines.append(\"    (A extends Blade%s ? Blade%s : {})%s\" % (blade, dual_blade, \"\" if i == len(blade_reprs) - 1 else \" &\"))\n",
    "    type_lines.append(\")\")\n",
    "    return \"\\n\".join(type_lines)\n",
    "\n",
    "def generate_dual(blade_reprs, dual_blade_indices, dual_blade_signs):\n",
    "    lines = [\n",
    "        \"export const dual = <A extends OptionalMultiVector>(a: A): DualResultType<A> => {\",\n",
    "        \"    const result: any = {\"\n",
    "    ]\n",
    "\n",
    "    for i, blade in enumerate(blade_reprs):\n",
    "        dual_blade_index = dual_blade_indices[i]\n",
    "        dual_blade_sign = dual_blade_signs[i]\n",
    "        dual_blade = blade_reprs[dual_blade_index]\n",
    "        lines.append(\"        %s: a.%s !== undefined ? %s * a.%s : undefined,\" % (blade.lower(), dual_blade.lower(), dual_blade_sign.numpy(), dual_blade.lower()))\n",
    "\n",
    "    lines += [\n",
    "        \"    }\",\n",
    "        \"    return result as DualResultType<A>\",\n",
    "        \"}\"\n",
    "    ]\n",
    "    return \"\\n\".join(lines)\n",
    "\n",
    "print(generate_dual_type(blade_reprs, pga.dual_blade_indices))\n",
    "print(generate_dual(blade_reprs, pga.dual_blade_indices, pga.dual_blade_signs))"
   ]
  },
  {
   "cell_type": "code",
   "execution_count": 8,
   "metadata": {
    "tags": []
   },
   "outputs": [
    {
     "output_type": "stream",
     "name": "stdout",
     "text": "export type GeometricProductResultType<A, B> =\n    (A extends BladeScalar ? (\n        (B extends BladeScalar ? BladeScalar : {}) &\n        (B extends BladeE0 ? BladeE0 : {}) &\n        (B extends BladeE1 ? BladeE1 : {}) &\n        (B extends BladeE2 ? BladeE2 : {}) &\n        (B extends BladeE01 ? BladeE01 : {}) &\n        (B extends BladeE02 ? BladeE02 : {}) &\n        (B extends BladeE12 ? BladeE12 : {}) &\n        (B extends BladeE012 ? BladeE012 : {})\n    ) : {}) &\n    (A extends BladeE0 ? (\n        (B extends BladeScalar ? BladeE0 : {}) &\n        (B extends BladeE1 ? BladeE01 : {}) &\n        (B extends BladeE2 ? BladeE02 : {}) &\n        (B extends BladeE12 ? BladeE012 : {})\n    ) : {}) &\n    (A extends BladeE1 ? (\n        (B extends BladeScalar ? BladeE1 : {}) &\n        (B extends BladeE0 ? BladeE01 : {}) &\n        (B extends BladeE1 ? BladeScalar : {}) &\n        (B extends BladeE2 ? BladeE12 : {}) &\n        (B extends BladeE01 ? BladeE0 : {}) &\n        (B extends BladeE02 ? BladeE012 : {}) &\n        (B extends BladeE12 ? BladeE2 : {}) &\n        (B extends BladeE012 ? BladeE02 : {})\n    ) : {}) &\n    (A extends BladeE2 ? (\n        (B extends BladeScalar ? BladeE2 : {}) &\n        (B extends BladeE0 ? BladeE02 : {}) &\n        (B extends BladeE1 ? BladeE12 : {}) &\n        (B extends BladeE2 ? BladeScalar : {}) &\n        (B extends BladeE01 ? BladeE012 : {}) &\n        (B extends BladeE02 ? BladeE0 : {}) &\n        (B extends BladeE12 ? BladeE1 : {}) &\n        (B extends BladeE012 ? BladeE01 : {})\n    ) : {}) &\n    (A extends BladeE01 ? (\n        (B extends BladeScalar ? BladeE01 : {}) &\n        (B extends BladeE1 ? BladeE0 : {}) &\n        (B extends BladeE2 ? BladeE012 : {}) &\n        (B extends BladeE12 ? BladeE02 : {})\n    ) : {}) &\n    (A extends BladeE02 ? (\n        (B extends BladeScalar ? BladeE02 : {}) &\n        (B extends BladeE1 ? BladeE012 : {}) &\n        (B extends BladeE2 ? BladeE0 : {}) &\n        (B extends BladeE12 ? BladeE01 : {})\n    ) : {}) &\n    (A extends BladeE12 ? (\n        (B extends BladeScalar ? BladeE12 : {}) &\n        (B extends BladeE0 ? BladeE012 : {}) &\n        (B extends BladeE1 ? BladeE2 : {}) &\n        (B extends BladeE2 ? BladeE1 : {}) &\n        (B extends BladeE01 ? BladeE02 : {}) &\n        (B extends BladeE02 ? BladeE01 : {}) &\n        (B extends BladeE12 ? BladeScalar : {}) &\n        (B extends BladeE012 ? BladeE0 : {})\n    ) : {}) &\n    (A extends BladeE012 ? (\n        (B extends BladeScalar ? BladeE012 : {}) &\n        (B extends BladeE1 ? BladeE02 : {}) &\n        (B extends BladeE2 ? BladeE01 : {}) &\n        (B extends BladeE12 ? BladeE0 : {})\n    ) : {})\nexport const geometricProduct = <A extends OptionalMultiVector, B extends OptionalMultiVector>(a: A, b: B): GeometricProductResultType<A, B> => {\n    let resultScalar = undefined\n    const scalar_0 = a.scalar !== undefined && b.scalar !== undefined\n    const scalar_1 = a.e1 !== undefined && b.e1 !== undefined\n    const scalar_2 = a.e2 !== undefined && b.e2 !== undefined\n    const scalar_3 = a.e12 !== undefined && b.e12 !== undefined\n    if (scalar_0 || scalar_1 || scalar_2 || scalar_3) {\n        resultScalar = 0\n        if (scalar_0) resultScalar += 1.0 * (a.scalar! * b.scalar!)\n        if (scalar_1) resultScalar += 1.0 * (a.e1! * b.e1!)\n        if (scalar_2) resultScalar += 1.0 * (a.e2! * b.e2!)\n        if (scalar_3) resultScalar += -1.0 * (a.e12! * b.e12!)\n    }\n    let resultE0 = undefined\n    const e0_0 = a.scalar !== undefined && b.e0 !== undefined\n    const e0_1 = a.e0 !== undefined && b.scalar !== undefined\n    const e0_2 = a.e1 !== undefined && b.e01 !== undefined\n    const e0_3 = a.e2 !== undefined && b.e02 !== undefined\n    const e0_4 = a.e01 !== undefined && b.e1 !== undefined\n    const e0_5 = a.e02 !== undefined && b.e2 !== undefined\n    const e0_6 = a.e12 !== undefined && b.e012 !== undefined\n    const e0_7 = a.e012 !== undefined && b.e12 !== undefined\n    if (e0_0 || e0_1 || e0_2 || e0_3 || e0_4 || e0_5 || e0_6 || e0_7) {\n        resultE0 = 0\n        if (e0_0) resultE0 += 1.0 * (a.scalar! * b.e0!)\n        if (e0_1) resultE0 += 1.0 * (a.e0! * b.scalar!)\n        if (e0_2) resultE0 += -1.0 * (a.e1! * b.e01!)\n        if (e0_3) resultE0 += -1.0 * (a.e2! * b.e02!)\n        if (e0_4) resultE0 += 1.0 * (a.e01! * b.e1!)\n        if (e0_5) resultE0 += 1.0 * (a.e02! * b.e2!)\n        if (e0_6) resultE0 += -1.0 * (a.e12! * b.e012!)\n        if (e0_7) resultE0 += -1.0 * (a.e012! * b.e12!)\n    }\n    let resultE1 = undefined\n    const e1_0 = a.scalar !== undefined && b.e1 !== undefined\n    const e1_1 = a.e1 !== undefined && b.scalar !== undefined\n    const e1_2 = a.e2 !== undefined && b.e12 !== undefined\n    const e1_3 = a.e12 !== undefined && b.e2 !== undefined\n    if (e1_0 || e1_1 || e1_2 || e1_3) {\n        resultE1 = 0\n        if (e1_0) resultE1 += 1.0 * (a.scalar! * b.e1!)\n        if (e1_1) resultE1 += 1.0 * (a.e1! * b.scalar!)\n        if (e1_2) resultE1 += -1.0 * (a.e2! * b.e12!)\n        if (e1_3) resultE1 += 1.0 * (a.e12! * b.e2!)\n    }\n    let resultE2 = undefined\n    const e2_0 = a.scalar !== undefined && b.e2 !== undefined\n    const e2_1 = a.e1 !== undefined && b.e12 !== undefined\n    const e2_2 = a.e2 !== undefined && b.scalar !== undefined\n    const e2_3 = a.e12 !== undefined && b.e1 !== undefined\n    if (e2_0 || e2_1 || e2_2 || e2_3) {\n        resultE2 = 0\n        if (e2_0) resultE2 += 1.0 * (a.scalar! * b.e2!)\n        if (e2_1) resultE2 += 1.0 * (a.e1! * b.e12!)\n        if (e2_2) resultE2 += 1.0 * (a.e2! * b.scalar!)\n        if (e2_3) resultE2 += -1.0 * (a.e12! * b.e1!)\n    }\n    let resultE01 = undefined\n    const e01_0 = a.scalar !== undefined && b.e01 !== undefined\n    const e01_1 = a.e0 !== undefined && b.e1 !== undefined\n    const e01_2 = a.e1 !== undefined && b.e0 !== undefined\n    const e01_3 = a.e2 !== undefined && b.e012 !== undefined\n    const e01_4 = a.e01 !== undefined && b.scalar !== undefined\n    const e01_5 = a.e02 !== undefined && b.e12 !== undefined\n    const e01_6 = a.e12 !== undefined && b.e02 !== undefined\n    const e01_7 = a.e012 !== undefined && b.e2 !== undefined\n    if (e01_0 || e01_1 || e01_2 || e01_3 || e01_4 || e01_5 || e01_6 || e01_7) {\n        resultE01 = 0\n        if (e01_0) resultE01 += 1.0 * (a.scalar! * b.e01!)\n        if (e01_1) resultE01 += 1.0 * (a.e0! * b.e1!)\n        if (e01_2) resultE01 += -1.0 * (a.e1! * b.e0!)\n        if (e01_3) resultE01 += 1.0 * (a.e2! * b.e012!)\n        if (e01_4) resultE01 += 1.0 * (a.e01! * b.scalar!)\n        if (e01_5) resultE01 += -1.0 * (a.e02! * b.e12!)\n        if (e01_6) resultE01 += 1.0 * (a.e12! * b.e02!)\n        if (e01_7) resultE01 += 1.0 * (a.e012! * b.e2!)\n    }\n    let resultE02 = undefined\n    const e02_0 = a.scalar !== undefined && b.e02 !== undefined\n    const e02_1 = a.e0 !== undefined && b.e2 !== undefined\n    const e02_2 = a.e1 !== undefined && b.e012 !== undefined\n    const e02_3 = a.e2 !== undefined && b.e0 !== undefined\n    const e02_4 = a.e01 !== undefined && b.e12 !== undefined\n    const e02_5 = a.e02 !== undefined && b.scalar !== undefined\n    const e02_6 = a.e12 !== undefined && b.e01 !== undefined\n    const e02_7 = a.e012 !== undefined && b.e1 !== undefined\n    if (e02_0 || e02_1 || e02_2 || e02_3 || e02_4 || e02_5 || e02_6 || e02_7) {\n        resultE02 = 0\n        if (e02_0) resultE02 += 1.0 * (a.scalar! * b.e02!)\n        if (e02_1) resultE02 += 1.0 * (a.e0! * b.e2!)\n        if (e02_2) resultE02 += -1.0 * (a.e1! * b.e012!)\n        if (e02_3) resultE02 += -1.0 * (a.e2! * b.e0!)\n        if (e02_4) resultE02 += 1.0 * (a.e01! * b.e12!)\n        if (e02_5) resultE02 += 1.0 * (a.e02! * b.scalar!)\n        if (e02_6) resultE02 += -1.0 * (a.e12! * b.e01!)\n        if (e02_7) resultE02 += -1.0 * (a.e012! * b.e1!)\n    }\n    let resultE12 = undefined\n    const e12_0 = a.scalar !== undefined && b.e12 !== undefined\n    const e12_1 = a.e1 !== undefined && b.e2 !== undefined\n    const e12_2 = a.e2 !== undefined && b.e1 !== undefined\n    const e12_3 = a.e12 !== undefined && b.scalar !== undefined\n    if (e12_0 || e12_1 || e12_2 || e12_3) {\n        resultE12 = 0\n        if (e12_0) resultE12 += 1.0 * (a.scalar! * b.e12!)\n        if (e12_1) resultE12 += 1.0 * (a.e1! * b.e2!)\n        if (e12_2) resultE12 += -1.0 * (a.e2! * b.e1!)\n        if (e12_3) resultE12 += 1.0 * (a.e12! * b.scalar!)\n    }\n    let resultE012 = undefined\n    const e012_0 = a.scalar !== undefined && b.e012 !== undefined\n    const e012_1 = a.e0 !== undefined && b.e12 !== undefined\n    const e012_2 = a.e1 !== undefined && b.e02 !== undefined\n    const e012_3 = a.e2 !== undefined && b.e01 !== undefined\n    const e012_4 = a.e01 !== undefined && b.e2 !== undefined\n    const e012_5 = a.e02 !== undefined && b.e1 !== undefined\n    const e012_6 = a.e12 !== undefined && b.e0 !== undefined\n    const e012_7 = a.e012 !== undefined && b.scalar !== undefined\n    if (e012_0 || e012_1 || e012_2 || e012_3 || e012_4 || e012_5 || e012_6 || e012_7) {\n        resultE012 = 0\n        if (e012_0) resultE012 += 1.0 * (a.scalar! * b.e012!)\n        if (e012_1) resultE012 += 1.0 * (a.e0! * b.e12!)\n        if (e012_2) resultE012 += -1.0 * (a.e1! * b.e02!)\n        if (e012_3) resultE012 += 1.0 * (a.e2! * b.e01!)\n        if (e012_4) resultE012 += 1.0 * (a.e01! * b.e2!)\n        if (e012_5) resultE012 += -1.0 * (a.e02! * b.e1!)\n        if (e012_6) resultE012 += 1.0 * (a.e12! * b.e0!)\n        if (e012_7) resultE012 += 1.0 * (a.e012! * b.scalar!)\n    }\n    const result: any = {\n        scalar: resultScalar,\n        e0: resultE0,\n        e1: resultE1,\n        e2: resultE2,\n        e01: resultE01,\n        e02: resultE02,\n        e12: resultE12,\n        e012: resultE012,\n    }\n    return result as GeometricProductResultType<A, B>\n}\n"
    }
   ],
   "source": [
    "def generate_geom_prod_type(name, blade_reprs, mult_table):\n",
    "    type_lines = []\n",
    "    for i, blade_a in enumerate(blade_reprs):\n",
    "        a_type_lines = []\n",
    "        for j, blade_b in enumerate(blade_reprs):\n",
    "            result_blade_index = mult_table[i, j]\n",
    "            if result_blade_index >= 0:\n",
    "                result_blade = blade_reprs[result_blade_index]\n",
    "\n",
    "                if len(a_type_lines) > 0:\n",
    "                    a_type_lines[-1] += \" &\"\n",
    "\n",
    "                a_type_lines.append(\"        (B extends Blade%s ? Blade%s : {})\" % (blade_b, result_blade))\n",
    "\n",
    "        if len(a_type_lines) > 0:\n",
    "            if len(type_lines) > 0:\n",
    "                type_lines[-1] += \" &\"\n",
    "            type_lines.append(\"    (A extends Blade%s ? (\" % blade_a)\n",
    "            type_lines += a_type_lines\n",
    "            type_lines.append(\"    ) : {})\")\n",
    "    type_lines = [\"export type %sResultType<A, B> =\" % name] + type_lines\n",
    "    return \"\\n\".join(type_lines)\n",
    "\n",
    "def generate_geom_prod(name, blade_reprs, mult_table, mult_sign_table):\n",
    "    lines = [\n",
    "        \"export const %s = <A extends OptionalMultiVector, B extends OptionalMultiVector>(a: A, b: B): %sResultType<A, B> => {\" % (name[0].lower() + name[1:], name)\n",
    "    ]\n",
    "    for i, result_blade in enumerate(blade_reprs):\n",
    "        lines.append(\"    let result%s = undefined\" % result_blade)\n",
    "        result_blade_factors = np.where(mult_table == i)\n",
    "        \n",
    "        if result_blade_factors[0].shape[0] > 0:\n",
    "            assignment_lines = []\n",
    "            bool_names = []\n",
    "            for j, (blade_ind_a, blade_ind_b) in enumerate(zip(*result_blade_factors)):\n",
    "                blade_a = blade_reprs[blade_ind_a]\n",
    "                blade_b = blade_reprs[blade_ind_b]\n",
    "                prod_sign = mult_sign_table[blade_ind_a, blade_ind_b]\n",
    "\n",
    "                bool_name = \"%s_%d\" % (result_blade.lower(), j)\n",
    "                bool_names.append(bool_name)\n",
    "\n",
    "                lines.append(\"    const %s = a.%s !== undefined && b.%s !== undefined\" % (bool_name, blade_a.lower(), blade_b.lower()))\n",
    "                assignment_lines.append(\"        if (%s) result%s += %s * (a.%s! * b.%s!)\" % (bool_name, result_blade, prod_sign, blade_a.lower(), blade_b.lower()))\n",
    "            lines += [\n",
    "                \"    if (%s) {\" % \" || \".join(bool_names),\n",
    "                \"        result%s = 0\" % result_blade\n",
    "            ]\n",
    "            lines += assignment_lines\n",
    "            lines.append(\"    }\")\n",
    "\n",
    "    lines.append(\"    const result: any = {\")\n",
    "\n",
    "    for i, result_blade in enumerate(blade_reprs):\n",
    "        lines.append(\"        %s: result%s,\" % (result_blade.lower(), result_blade))\n",
    "\n",
    "    lines += [\n",
    "        \"    }\",\n",
    "        \"    return result as %sResultType<A, B>\" % name,\n",
    "        \"}\"\n",
    "    ]\n",
    "    return \"\\n\".join(lines)\n",
    "\n",
    "print(generate_geom_prod_type(\"GeometricProduct\", blade_reprs, mult_table))\n",
    "print(generate_geom_prod(\"GeometricProduct\", blade_reprs, mult_table, mult_sign_table))"
   ]
  },
  {
   "cell_type": "code",
   "execution_count": 9,
   "metadata": {
    "tags": []
   },
   "outputs": [
    {
     "output_type": "stream",
     "name": "stdout",
     "text": "export const multiply = <A extends OptionalMultiVector>(a: A, b: number): A => {\n    const result: any = {\n        scalar: a.scalar !== undefined ? a.scalar * b : undefined,\n        e0: a.e0 !== undefined ? a.e0 * b : undefined,\n        e1: a.e1 !== undefined ? a.e1 * b : undefined,\n        e2: a.e2 !== undefined ? a.e2 * b : undefined,\n        e01: a.e01 !== undefined ? a.e01 * b : undefined,\n        e02: a.e02 !== undefined ? a.e02 * b : undefined,\n        e12: a.e12 !== undefined ? a.e12 * b : undefined,\n        e012: a.e012 !== undefined ? a.e012 * b : undefined,\n    }\n    return result as A\n}\n"
    }
   ],
   "source": [
    "def generate_elementwise(name, op, blade_reprs):\n",
    "    lines = [\n",
    "        \"export const %s = <A extends OptionalMultiVector>(a: A, b: number): A => {\" % name,\n",
    "        \"    const result: any = {\"\n",
    "    ]\n",
    "\n",
    "    for blade in blade_reprs:\n",
    "        lines.append(\"        %s: a.%s !== undefined ? a.%s %s b : undefined,\" % (blade.lower(), blade.lower(), blade.lower(), op))\n",
    "\n",
    "    lines += [\n",
    "        \"    }\",\n",
    "        \"    return result as A\",\n",
    "        \"}\"\n",
    "    ]\n",
    "\n",
    "    return \"\\n\".join(lines)\n",
    "\n",
    "print(generate_elementwise(\"multiply\", \"*\", blade_reprs))"
   ]
  },
  {
   "cell_type": "code",
   "execution_count": 10,
   "metadata": {
    "tags": []
   },
   "outputs": [
    {
     "output_type": "stream",
     "name": "stdout",
     "text": "export const reversion = <A extends OptionalMultiVector>(a: A): A => {\n    const result: any = {\n        scalar: a.scalar && a.scalar,\n        e0: a.e0 && a.e0,\n        e1: a.e1 && a.e1,\n        e2: a.e2 && a.e2,\n        e01: a.e01 && -a.e01,\n        e02: a.e02 && -a.e02,\n        e12: a.e12 && -a.e12,\n        e012: a.e012 && -a.e012,\n    }\n    return result as A\n}\n"
    }
   ],
   "source": [
    "def generate_reversion(blade_degrees, blade_reprs):\n",
    "    lines = [\n",
    "        \"export const reversion = <A extends OptionalMultiVector>(a: A): A => {\",\n",
    "        \"    const result: any = {\"\n",
    "    ]\n",
    "    blade_degrees = tf.cast(blade_degrees, tf.float32)\n",
    "    odd_swaps = tf.cast(tf.floor(\n",
    "        blade_degrees * (blade_degrees - 0.5)\n",
    "    ) % 2, tf.float32)\n",
    "\n",
    "    # [0, 1] -> [-1, 1]\n",
    "    rev_signs = 1.0 - 2.0 * odd_swaps\n",
    "    for rev_sign, blade_degree, blade in zip(rev_signs, blade_degrees, blade_reprs):\n",
    "        if rev_sign > 0:\n",
    "            lines.append(\"        %s: a.%s && a.%s,\" % (blade.lower(), blade.lower(), blade.lower()))\n",
    "        else:\n",
    "            lines.append(\"        %s: a.%s && -a.%s,\" % (blade.lower(), blade.lower(), blade.lower()))\n",
    "\n",
    "    lines += [\n",
    "        \"    }\",\n",
    "        \"    return result as A\",\n",
    "        \"}\"\n",
    "    ]\n",
    "    return \"\\n\".join(lines)\n",
    "\n",
    "print(generate_reversion(pga.blade_degrees, blade_reprs))"
   ]
  },
  {
   "cell_type": "code",
   "execution_count": 11,
   "metadata": {
    "tags": []
   },
   "outputs": [
    {
     "output_type": "stream",
     "name": "stdout",
     "text": "export const repr = <A extends OptionalMultiVector>(a: A, digits: number = 3): string => {\n    let result = \"\"\n    if (a.scalar !== undefined) {\n        if (result === \"\") {\n            result += a.scalar.toFixed(digits) + \"\"\n        } else {\n            result += a.scalar >= 0 ? \" + \" + a.scalar.toFixed(digits) + \"\" : \" - \" + Math.abs(a.scalar).toFixed(digits) + \"\"\n        }\n    }\n    if (a.e0 !== undefined) {\n        if (result === \"\") {\n            result += a.e0.toFixed(digits) + \"e0\"\n        } else {\n            result += a.e0 >= 0 ? \" + \" + a.e0.toFixed(digits) + \"e0\" : \" - \" + Math.abs(a.e0).toFixed(digits) + \"e0\"\n        }\n    }\n    if (a.e1 !== undefined) {\n        if (result === \"\") {\n            result += a.e1.toFixed(digits) + \"e1\"\n        } else {\n            result += a.e1 >= 0 ? \" + \" + a.e1.toFixed(digits) + \"e1\" : \" - \" + Math.abs(a.e1).toFixed(digits) + \"e1\"\n        }\n    }\n    if (a.e2 !== undefined) {\n        if (result === \"\") {\n            result += a.e2.toFixed(digits) + \"e2\"\n        } else {\n            result += a.e2 >= 0 ? \" + \" + a.e2.toFixed(digits) + \"e2\" : \" - \" + Math.abs(a.e2).toFixed(digits) + \"e2\"\n        }\n    }\n    if (a.e01 !== undefined) {\n        if (result === \"\") {\n            result += a.e01.toFixed(digits) + \"e01\"\n        } else {\n            result += a.e01 >= 0 ? \" + \" + a.e01.toFixed(digits) + \"e01\" : \" - \" + Math.abs(a.e01).toFixed(digits) + \"e01\"\n        }\n    }\n    if (a.e02 !== undefined) {\n        if (result === \"\") {\n            result += a.e02.toFixed(digits) + \"e02\"\n        } else {\n            result += a.e02 >= 0 ? \" + \" + a.e02.toFixed(digits) + \"e02\" : \" - \" + Math.abs(a.e02).toFixed(digits) + \"e02\"\n        }\n    }\n    if (a.e12 !== undefined) {\n        if (result === \"\") {\n            result += a.e12.toFixed(digits) + \"e12\"\n        } else {\n            result += a.e12 >= 0 ? \" + \" + a.e12.toFixed(digits) + \"e12\" : \" - \" + Math.abs(a.e12).toFixed(digits) + \"e12\"\n        }\n    }\n    if (a.e012 !== undefined) {\n        if (result === \"\") {\n            result += a.e012.toFixed(digits) + \"e012\"\n        } else {\n            result += a.e012 >= 0 ? \" + \" + a.e012.toFixed(digits) + \"e012\" : \" - \" + Math.abs(a.e012).toFixed(digits) + \"e012\"\n        }\n    }\n    return result\n}\n"
    }
   ],
   "source": [
    "def generate_repr(blade_reprs):\n",
    "    lines = [\n",
    "        \"export const repr = <A extends OptionalMultiVector>(a: A, digits: number = 3): string => {\",\n",
    "        \"    let result = \\\"\\\"\"\n",
    "    ]\n",
    "\n",
    "    for blade in blade_reprs:\n",
    "        b = \"\" if blade == \"Scalar\" else blade.lower()\n",
    "        lines += [\n",
    "            \"    if (a.%s !== undefined) {\" % blade.lower(),\n",
    "            \"        if (result === \\\"\\\") {\",\n",
    "            \"            result += a.%s.toFixed(digits) + \\\"%s\\\"\" % (\n",
    "                blade.lower(), b\n",
    "            ),\n",
    "            \"        } else {\",\n",
    "            \"            result += a.%s >= 0 ? \\\" + \\\" + a.%s.toFixed(digits) + \\\"%s\\\" : \\\" - \\\" + Math.abs(a.%s).toFixed(digits) + \\\"%s\\\"\" % (\n",
    "                blade.lower(), blade.lower(), b, blade.lower(), b\n",
    "            ),\n",
    "            \"        }\",\n",
    "            \"    }\"\n",
    "        ]\n",
    "\n",
    "    lines += [\n",
    "        \"    return result\",\n",
    "        \"}\"\n",
    "    ]\n",
    "    return \"\\n\".join(lines)\n",
    "\n",
    "print(generate_repr(blade_reprs))"
   ]
  },
  {
   "cell_type": "code",
   "execution_count": 12,
   "metadata": {},
   "outputs": [],
   "source": [
    "misc_functions = \"\"\"\n",
    "export const regressiveProduct = <A extends OptionalMultiVector, B extends OptionalMultiVector>(a: A, b: B) =>\n",
    "    dual(exteriorProduct(dual(a), dual(b)))\n",
    "\n",
    "export const sandwichProduct = <A extends OptionalMultiVector, B extends OptionalMultiVector>(a: A, b: B) =>\n",
    "    geometricProduct(b, geometricProduct(a, reversion(b)))\n",
    "\n",
    "export const commutatorProduct = <A extends OptionalMultiVector, B extends OptionalMultiVector>(a: A, b: B) =>\n",
    "    multiply(sub(geometricProduct(a, b), geometricProduct(b, a)), 0.5)\n",
    "\n",
    "export const exponential = <A extends OptionalMultiVector>(a: A) => {\n",
    "    const gp = geometricProduct(a, a) as any\n",
    "    if (gp.scalar === undefined) {\n",
    "        throw new Error(\"Input to exponential needs to square to scalar\")\n",
    "    }\n",
    "    const s = gp.scalar as number\n",
    "\n",
    "    if (s < -0.1) {\n",
    "        const rootS = Math.sign(s) * Math.sqrt(Math.abs(s))\n",
    "        return add({ scalar: Math.cos(rootS) }, multiply(a, Math.sin(rootS) / rootS))\n",
    "    } else if (s > 0.1) {\n",
    "        const rootS = Math.sign(s) * Math.sqrt(Math.abs(s))\n",
    "        return add({ scalar: Math.cosh(rootS) }, multiply(a, Math.sinh(rootS) / rootS))\n",
    "    } else {\n",
    "        return add({ scalar: 1 }, a)\n",
    "    }\n",
    "}\n",
    "\"\"\".strip()"
   ]
  },
  {
   "cell_type": "code",
   "execution_count": 13,
   "metadata": {},
   "outputs": [],
   "source": [
    "def write_ts(out_path, signature):\n",
    "    ga = GeometricAlgebra(signature)\n",
    "    blade_reprs = list(map(blade_repr, ga.blades))\n",
    "    mult_table, mult_sign_table = generate_multiplication_tables(ga.cayley)\n",
    "    mult_table_inner, mult_sign_table_inner = generate_multiplication_tables(ga.cayley_inner)\n",
    "    mult_table_outer, mult_sign_table_outer = generate_multiplication_tables(ga.cayley_outer)\n",
    "    kinds = [\n",
    "        (BladeKind.SCALAR, \"Scalar\"),\n",
    "        (BladeKind.VECTOR, \"Vector\"),\n",
    "        (BladeKind.BIVECTOR, \"BiVector\"),\n",
    "        (BladeKind.TRIVECTOR, \"TriVector\"),\n",
    "        (BladeKind.PSEUDOTRIVECTOR, \"PseudoTriVector\"),\n",
    "        (BladeKind.PSEUDOBIVECTOR, \"PseudoBiVector\"),\n",
    "        (BladeKind.PSEUDOVECTOR, \"PseudoVector\"),\n",
    "        (BladeKind.PSEUDOSCALAR, \"PseudoScalar\"),\n",
    "        (BladeKind.EVEN, \"Even\"),\n",
    "        (BladeKind.ODD, \"Odd\"),\n",
    "        (BladeKind.MV, \"MultiVector\")\n",
    "    ]\n",
    "\n",
    "    out_texts = [\n",
    "        generate_blade_types(blade_reprs),\n",
    "        generate_kind_types(kinds, ga, blade_reprs),\n",
    "        generate_optional_mv(blade_reprs),\n",
    "        generate_add_type(blade_reprs),\n",
    "        generate_add(\"add\", \"+\", blade_reprs),\n",
    "        generate_add(\"sub\", \"-\", blade_reprs),\n",
    "        generate_dual_type(blade_reprs, ga.dual_blade_indices),\n",
    "        generate_dual(blade_reprs, ga.dual_blade_indices, ga.dual_blade_signs),\n",
    "        generate_geom_prod_type(\"GeometricProduct\", blade_reprs, mult_table),\n",
    "        generate_geom_prod(\"GeometricProduct\", blade_reprs, mult_table, mult_sign_table),\n",
    "        generate_geom_prod_type(\"InnerProduct\", blade_reprs, mult_table_inner),\n",
    "        generate_geom_prod(\"InnerProduct\", blade_reprs, mult_table_inner, mult_sign_table_inner),\n",
    "        generate_geom_prod_type(\"ExteriorProduct\", blade_reprs, mult_table_outer),\n",
    "        generate_geom_prod(\"ExteriorProduct\", blade_reprs, mult_table_outer, mult_sign_table_outer),\n",
    "        generate_elementwise(\"multiply\", \"*\", blade_reprs),\n",
    "        generate_elementwise(\"div\", \"/\", blade_reprs),\n",
    "        generate_reversion(ga.blade_degrees, blade_reprs),\n",
    "        generate_repr(blade_reprs),\n",
    "        misc_functions\n",
    "    ]\n",
    "\n",
    "    with open(out_path, \"w\", encoding=\"utf-8\") as out_file:\n",
    "        out_file.write(\"\\n\\n\".join(out_texts))\n",
    "\n",
    "os.makedirs(\"generated\", exist_ok=True)\n",
    "\n",
    "for i in range(5):\n",
    "    for signature in combinations_with_replacement([0, -1, 1], r=i):\n",
    "        file_name = \"ga_%s.ts\" % \"\".join(map(lambda s: \"m\" if s < 0 else (\"p\" if s > 0 else \"z\"), signature)) if i > 0 else \"ga_s.ts\"\n",
    "        write_ts(os.path.join(\"generated\", file_name), signature)"
   ]
  }
 ],
 "metadata": {
  "language_info": {
   "codemirror_mode": {
    "name": "ipython",
    "version": 3
   },
   "file_extension": ".py",
   "mimetype": "text/x-python",
   "name": "python",
   "nbconvert_exporter": "python",
   "pygments_lexer": "ipython3",
   "version": 3
  },
  "orig_nbformat": 2,
  "kernelspec": {
   "name": "python_defaultSpec_1594326847475",
   "display_name": "Python 3.7.6 64-bit ('tf2': conda)"
  }
 },
 "nbformat": 4,
 "nbformat_minor": 2
}